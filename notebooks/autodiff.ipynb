{
 "cells": [
  {
   "cell_type": "markdown",
   "metadata": {},
   "source": [
    "# Automatic Differentiation\n",
    "\n",
    "Prolog is really great with symbolic formula manipulation. The code below shows a great example of a very declarative program, that performs **symbolic differentiation** by just providing core differentiation rules:"
   ]
  },
  {
   "cell_type": "code",
   "execution_count": 1,
   "metadata": {},
   "outputs": [
    {
     "name": "stdout",
     "output_type": "stream",
     "text": []
    }
   ],
   "source": [
    "d(X,X,1) :- !.\n",
    "d(T,X,0) :- atomic(T).\n",
    "\n",
    "d(U+V,X,DU+DV) :- d(U,X,DU), d(V,X,DV).\n",
    "d(U-V,X,DU-DV) :- d(U,X,DU), d(V,X,DV).\n",
    "d(-T,X,-R) :- d(T,X,R).\n",
    "d(C*U,X,C*W) :- atomic(C), C\\=X, !, d(U,X,W).\n",
    "d(U*V,X,Vd*U+Ud*V) :- d(U,X,Ud), d(V,X,Vd).\n",
    "d(U/V,X,(Ud*V-Vd*U)/(V*V)) :- d(U,X,Ud), d(V,X,Vd)."
   ]
  },
  {
   "cell_type": "markdown",
   "metadata": {},
   "source": [
    "Now let's query it:"
   ]
  },
  {
   "cell_type": "code",
   "execution_count": 2,
   "metadata": {},
   "outputs": [
    {
     "name": "stdout",
     "output_type": "stream",
     "text": [
      "R = /(-(*(-(1, 0), +(x, 1)), *(+(1, 0), -(x, 1))), *(+(x, 1), +(x, 1))) ."
     ]
    }
   ],
   "source": [
    "?- d((x-1)/(x+1),x,R)."
   ]
  },
  {
   "cell_type": "code",
   "execution_count": null,
   "metadata": {},
   "outputs": [],
   "source": []
  }
 ],
 "metadata": {
  "kernelspec": {
   "display_name": "SWI-Prolog",
   "language": "",
   "name": "jswipl"
  },
  "language_info": {
   "mimetype": "text/plain",
   "name": "swipl"
  }
 },
 "nbformat": 4,
 "nbformat_minor": 4
}
