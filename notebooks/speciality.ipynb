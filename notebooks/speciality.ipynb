{
 "cells": [
  {
   "cell_type": "markdown",
   "metadata": {},
   "source": [
    "# Speicality Example\n",
    "\n",
    "In this example, suppose we have a database of students, and which sudject they studied. In our simple case, we will focus on two students, *Petya* and *Vasya*, and a few subjects: *Math*, *Computer Science*, *Litereature*, and two foreign languages: *English* and *German*:"
   ]
  },
  {
   "cell_type": "code",
   "execution_count": 1,
   "metadata": {},
   "outputs": [
    {
     "name": "stdout",
     "output_type": "stream",
     "text": []
    }
   ],
   "source": [
    "studied(petya,mathematics).\n",
    "studied(vasya,german).\n",
    "studied(petya,compscience).\n",
    "studied(vasya,literature).\n",
    "studied(petya,english)."
   ]
  },
  {
   "cell_type": "markdown",
   "metadata": {},
   "source": [
    "We want to be able to figure out their possible professions, among the following list:\n",
    "* Technical Translator\n",
    "* Litrature Translator\n",
    "* Programmer\n",
    "\n",
    "First of all, let's define auxiliary predicates to figure out if they studied some languages, or some technical subjects:"
   ]
  },
  {
   "cell_type": "code",
   "execution_count": 2,
   "metadata": {},
   "outputs": [
    {
     "name": "stdout",
     "output_type": "stream",
     "text": []
    }
   ],
   "source": [
    "studied_technical(X) :- studied(X,mathematics).\n",
    "studied_technical(X) :- studied(X,compscience).\n",
    "studied_languages(X) :- studied(X,english).\n",
    "studied_languages(X) :- studied(X,german)."
   ]
  },
  {
   "cell_type": "markdown",
   "metadata": {},
   "source": [
    "Now, let's define the main rules that describe professions. For example, for *technical translator*, someone has to study languages and at least one technical subject: "
   ]
  },
  {
   "cell_type": "code",
   "execution_count": 3,
   "metadata": {},
   "outputs": [
    {
     "name": "stdout",
     "output_type": "stream",
     "text": []
    }
   ],
   "source": [
    "speciality(X,tech_translator) :- studied_languages(X), studied_technical(X)."
   ]
  },
  {
   "cell_type": "markdown",
   "metadata": {},
   "source": [
    "In the same manner, we will define two other professions:"
   ]
  },
  {
   "cell_type": "code",
   "execution_count": null,
   "metadata": {},
   "outputs": [],
   "source": [
    "speciality(X,programmer) :- studied(X,mathematics), studied(X, compscience).\n",
    "speciality(X,lit_translator) :- studied_languages(X),studied(X,literature)."
   ]
  },
  {
   "cell_type": "markdown",
   "metadata": {},
   "source": [
    "Once we have provided those **facts** and **rules** to Prolog, we can start writing a **query**. For example, let's figure out what are possible specialities for *Petya*:"
   ]
  },
  {
   "cell_type": "code",
   "execution_count": 8,
   "metadata": {},
   "outputs": [
    {
     "name": "stdout",
     "output_type": "stream",
     "text": [
      "X = tech_translator ;\n",
      "X = tech_translator ;\n",
      "X = programmer ."
     ]
    }
   ],
   "source": [
    "?-speciality(petya,X)."
   ]
  },
  {
   "cell_type": "markdown",
   "metadata": {},
   "source": [
    "The same \"program\" can be used to figure out who can be *literature translator*:"
   ]
  },
  {
   "cell_type": "code",
   "execution_count": 9,
   "metadata": {},
   "outputs": [
    {
     "name": "stdout",
     "output_type": "stream",
     "text": [
      "X = vasya ."
     ]
    }
   ],
   "source": [
    "?- speciality(X,lit_translator)."
   ]
  },
  {
   "cell_type": "code",
   "execution_count": null,
   "metadata": {},
   "outputs": [],
   "source": []
  }
 ],
 "metadata": {
  "kernelspec": {
   "display_name": "SWI-Prolog",
   "language": "",
   "name": "jswipl"
  },
  "language_info": {
   "mimetype": "text/plain",
   "name": "swipl"
  }
 },
 "nbformat": 4,
 "nbformat_minor": 4
}
